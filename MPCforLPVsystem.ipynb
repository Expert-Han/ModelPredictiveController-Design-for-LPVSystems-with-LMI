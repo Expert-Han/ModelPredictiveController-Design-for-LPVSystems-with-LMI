{
  "nbformat": 4,
  "nbformat_minor": 0,
  "metadata": {
    "colab": {
      "name": "MPCforLPVsystem.ipynb",
      "provenance": []
    },
    "kernelspec": {
      "name": "python3",
      "display_name": "Python 3"
    },
    "language_info": {
      "name": "python"
    }
  },
  "cells": [
    {
      "cell_type": "markdown",
      "metadata": {
        "id": "6HrL548yv1Ud"
      },
      "source": [
        "### Model Predictive Controller (MPC) Design\n",
        "\n"
      ]
    },
    {
      "cell_type": "code",
      "metadata": {
        "id": "8YjXd4srt7YZ"
      },
      "source": [
        "import cvxpy as cp\n",
        "import numpy as np\n",
        "import matplotlib.pyplot as plt\n",
        "from scipy.linalg import fractional_matrix_power\n",
        "\n",
        "A1 = np.matrix([[0.9347, 0.5194],[0.3835, 0.8310]])\n",
        "A2 = np.matrix([[0.0591, 0.2641],[1.7971, 0.8717]])\n",
        "\n",
        "B = np.matrix([[-1.4462],[-0.7012]])\n",
        "\n",
        "n=A1.shape[0]\n",
        "b=B.shape[1]\n",
        "\n",
        "P = cp.Variable((n,n), PSD=True)\n",
        "Y = cp.Variable((b,n))\n",
        "gamma = cp.Variable((1,1))\n",
        "I = np.identity(n)\n",
        "Ib = np.identity(b)\n",
        "Zn = np.zeros((n,n))\n",
        "Znb = np.zeros((n,b))\n",
        "\n",
        "Q=I;\n",
        "R=np.identity(b)\n",
        "Qf = fractional_matrix_power(Q, 0.5)\n",
        "Rf = fractional_matrix_power(R, 0.5)\n",
        "\n",
        "LMI1 = [[P, P*A1.T+Y.T*B.T, P*Qf, Y.T*Rf],\n",
        "        [(P*A1.T+Y.T*B.T).T, P, Zn, Znb],\n",
        "        [(P*Qf).T, Zn, gamma*I, Znb],\n",
        "        [(Y.T*Rf).T, Znb.T, Znb.T, gamma*Ib]]\n",
        "\n",
        "\n"
      ],
      "execution_count": 31,
      "outputs": []
    }
  ]
}